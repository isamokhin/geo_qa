{
 "cells": [
  {
   "cell_type": "code",
   "execution_count": 52,
   "metadata": {},
   "outputs": [],
   "source": [
    "import pandas as pd\n",
    "import re\n",
    "import regex\n",
    "import string\n",
    "import pymorphy2\n",
    "from tokenize_uk import tokenize_words\n",
    "from nltk import bigrams\n",
    "import rdflib\n",
    "from itertools import groupby\n",
    "import gzip\n",
    "morph = pymorphy2.MorphAnalyzer(lang='uk')"
   ]
  },
  {
   "cell_type": "markdown",
   "metadata": {},
   "source": [
    "question analysis implies:\n",
    "\n",
    "- parsing question for constituent parts (question word, entities, properties/relations, categories)\n",
    "\n",
    "- identifying the type of desired answer: date, location, quantity, entity etc."
   ]
  },
  {
   "cell_type": "markdown",
   "metadata": {},
   "source": [
    "Правила для аналізу питання:\n",
    "\n",
    "- \"що\", \"хто\" означає сутність\n",
    "- \"скільки\" означає кількість\n",
    "- \"коли\" означає дату\n",
    "- \"де\" означає локацію\n",
    "- \"який\" вказує на тип відповіді в наступному слові\n",
    "- на питання \"чому\" ми поки не відповідаємо, так само - \"навіщо\", \"куди\", \"з ким\" тощо.\n",
    "\n",
    "Синтаксичні правила:\n",
    "\n",
    "- ІМЕННИК1 (наз.в.) ІМЕННИК2 (род. в.) означає, що ми шукаємо властивість іменник1 щодо сутності іменник2\n",
    "- ІМЕННИК1 ПРИЙМЕННИК ІМЕННИК2 (місц. в. або род.в.) те саме\n",
    "- ПИТАЛЬНЕ\\_СЛОВО ДІЄСЛОВО (рефлексивне) ІМЕННИК означає що ми шукаємо сутність іменник\n",
    "- ПИТАЛЬНЕ\\_СЛОВО ІМЕННИК1 ДІЄСЛОВО (рефлексивне) ПРИЙМЕННИК ІМЕННИК2 означає шукаємо іменник1 з властивістю іменник2"
   ]
  },
  {
   "cell_type": "code",
   "execution_count": 2,
   "metadata": {},
   "outputs": [],
   "source": [
    "train_qs = \"\"\"Яке населення Шрі-Ланки?\n",
    "Скільки людей живе у Китаї?\n",
    "Яка площа України?\n",
    "Де знаходиться острів Калімантан?\n",
    "Який ВВП Мексики?\n",
    "Яка тривалість життя в Іспанії?\n",
    "Де розташовується Стамбул?\n",
    "Яка площа Саргасового моря?\n",
    "Яка столиця штату Флорида?\n",
    "Столиця якого штату - Топека?\n",
    "Яке населення Сан-Маріно?\n",
    "Скільки експортує Італія?\n",
    "Яке найбільше місто Німеччини?\n",
    "Яке населення Парижу?\n",
    "Де знаходиться Андалусія?\n",
    "Які країни знаходяться в Океанії?\n",
    "Яка смертність у Бразилії?\n",
    "Хто голова держави у Камеруні?\n",
    "Хто президент Індонезії?\n",
    "Яка валюта Азербайджану?\n",
    "Якими мовами розмовляють у Вірменії?\n",
    "Яка форма правління у Туркменістані?\n",
    "Яка площа Середземного моря?\n",
    "Яка густота населення Південної Африки?\n",
    "Який часовий пояс Гібралтару?\n",
    "Яка валюта використовується на Фіджі?\n",
    "Який часовий пояс Парагваю?\n",
    "Який домен у Малаві?\n",
    "Яке населення Мапуто?\n",
    "Який телефонний код в Індії?\n",
    "Коли засновано Рим?\n",
    "Яка довжина Нігера?\n",
    "Яка площа Ладозького озера?\n",
    "Яка площа басейну Євфрату?\n",
    "До якого океану належить Персидська затока?\n",
    "Яка глибина Байкалу?\"\"\".split('\\n')"
   ]
  },
  {
   "cell_type": "code",
   "execution_count": 129,
   "metadata": {},
   "outputs": [],
   "source": [
    "def get_entity(q):\n",
    "    words = q.split()\n",
    "    phrase = []\n",
    "    for i, w in enumerate(words[1:]):\n",
    "        if w[0] == w[0].upper():\n",
    "            w_parsed = morph.parse(w.strip(' ?'))[0]\n",
    "            if 'ADJF' in w_parsed.tag:\n",
    "                phrase.append(gender_agree(w_parsed).title())\n",
    "                phrase.append(morph.parse\n",
    "                              (words[i+2].strip(' ?'))[0].normal_form)\n",
    "                return ' '.join(phrase)\n",
    "            elif 'NOUN' in w_parsed.tag:\n",
    "                return w_parsed.normal_form.title()\n",
    "            elif 'UNKN' in w_parsed.tag:\n",
    "                return w_parsed.normal_form.title()\n",
    "            else:\n",
    "                continue\n",
    "    return None"
   ]
  },
  {
   "cell_type": "code",
   "execution_count": 135,
   "metadata": {},
   "outputs": [],
   "source": [
    "common_patterns = {\n",
    "    \"яка столиця\": [\"capital\", \"столиця\"], \n",
    "    \"яка форма правління\": [\"governmentType\"], \n",
    "    \"яка валюта\": [\"currency\", \"валюта\"], \n",
    "    \"яка площа\": [\"area\", \"площа\"], \n",
    "    \"яке населення\": [\"population\", \"populationEstimate\", \"населення\"],\n",
    "    \"скільки людей\": [\"population\", \"populationEstimate\", \"населення\"], \n",
    "    \"де знаходиться\": [\"GET_COORDINATES\"],\n",
    "    \"де розташовується\": [\"GET_COORDINATES\"],\n",
    "    \"яка столиця\": [\"capital\", \"столиця\"], \n",
    "    \"який гімн\": [\"nationalAnthem\"],\n",
    "    \"офіційні мови\": [\"officialLanguages\"], \n",
    "    \"державна мова\": [\"officialLanguages\"],  \n",
    "    \"державні мови\": [\"officialLanguages\"], \n",
    "    \"офіційна мова\": [\"officialLanguages\"], \n",
    "    \"якими мовами говорять\": [\"officialLanguages\"], \n",
    "    \"якими мовами розмовляють\": [\"officialLanguages\"], \n",
    "    \"найбільше місто\": [\"largestCity\"], \n",
    "    \"який президент\": [\"leaderName1\"], \n",
    "    \"хто президент\": [\"leaderName1\"],  \n",
    "    \"хто голова держави\": [\"leaderName1\"], \n",
    "    \"яка густота населення\": [\"populationDensity\", \"густота\"], \n",
    "    \"ВВП на душу\": [\"gdpPppPerCapita\", \"gdpNominalPerCapita\"], \n",
    "    \"який ВВП\": [\"gdpPpp\", \"gdpNominal\"],\n",
    "    \"ВВП\": [\"gdpPpp\", \"gdpNominal\"],\n",
    "    \"індекс розвитку\": [\"hdi\"], \n",
    "    \"код валюти\": [\"currencyCode\"], \n",
    "    \"домен\": [\"cctld\"],\n",
    "    \"телефонний код\": [\"callingCode\", \"кодКраїни\"], \n",
    "    \"який код\": [\"callingCode\", \"кодКраїни\"], \n",
    "    \"коли засновано\": [\"establishedDate1\", \"засноване\"], \n",
    "    \"який часовий пояс\": [\"timeZone\", \"utcOffset\"], \n",
    "    \"у якій країні\": [\"країна\", \"country\"], \n",
    "    \"у якому регіоні\": [\"регіон\", \"region\"], \n",
    "    \"девіз\": [\"nationalMotto\", \"девіз\"], \n",
    "    \"яке населення агломерації\": [\"агломерація\"], \n",
    "    \"яка площа міста\": [\"area\", \"площа\"], \n",
    "    \"яка висота над рівнем моря\": [\"висотаНадРівнемМоря\", \"elevationM\"], \n",
    "    \"який поділ міста\": [\"поділМіста\"], \n",
    "    \"яка довжина\": [\"length\", \"totalLength\", \"partLength\", \"довжина\"], \n",
    "    \"глибина\": [\"depth\", \"maxDepth\", \"глибина\", \"найбільшаГлибина\"], \n",
    "    \"яка ширина\": [\"width\", \"ширина\"], \n",
    "    \"довжина берегу\": [\"довжинаБереговоїЛінії\"], \n",
    "    \"довжина берегової лінії\": [\"довжинаБереговоїЛінії\"], \n",
    "    \"об'єм\": [\"об'єм\", \"volume\"], \n",
    "    \"який регіон\": [\"регіон\", \"region\"], \n",
    "    \"яке розташування\": [\"location\", \"розташування\"], \n",
    "    \"яка гірська система\": [\"range\"], \n",
    "    \"яка висота\": [\"elevation\", \"elevationM\"], \n",
    "    \"яка площа басейну\": [\"площаБасейну\", \"areaWaterKm\"], \n",
    "    \"яке гирло\": [\"гирло\"], \n",
    "    \"куди впадає\": [\"басейн\", \"гирло\"], \n",
    "    \"який тип озера\": [\"тип\"], \n",
    "    \"який витік\": [\"витік\"], \n",
    "    \"звідки витікає\": [\"витік\", \"витікКоорд\"], \n",
    "    \"які прирічкові країни\": [\"прирічковіКраїни\"], \n",
    "    \"серередньорічний стік\": [\"стік\"],\n",
    "    \"який стік\": [\"стік\"],\n",
    "    \"назва країни\": [\"commonName\"],\n",
    "    }"
   ]
  },
  {
   "cell_type": "code",
   "execution_count": 113,
   "metadata": {},
   "outputs": [],
   "source": [
    "def pattern_match(q):\n",
    "    \"\"\"\n",
    "    Match a question against common patterns\n",
    "    \"\"\"\n",
    "    answer_list = []\n",
    "    for k in common_patterns.keys():\n",
    "        if k in q.lower():\n",
    "            if \"GET_COORDINATES\" in common_patterns[k]:\n",
    "                if not get_entity(q):\n",
    "                    continue\n",
    "                else:\n",
    "                    answer_list.append(('GET_COORDINATES', get_entity(q)))\n",
    "            else:\n",
    "                if not get_entity(q):\n",
    "                    continue\n",
    "                for prop in common_patterns[k]:\n",
    "                    ent = get_entity(q)\n",
    "                    answer_list.append((prop, ent))\n",
    "    return answer_list"
   ]
  },
  {
   "cell_type": "code",
   "execution_count": 110,
   "metadata": {},
   "outputs": [
    {
     "data": {
      "text/plain": [
       "'Шрі-Ланка'"
      ]
     },
     "execution_count": 110,
     "metadata": {},
     "output_type": "execute_result"
    }
   ],
   "source": [
    "tq = train_qs[0]\n",
    "get_entity(tq)"
   ]
  },
  {
   "cell_type": "code",
   "execution_count": 89,
   "metadata": {},
   "outputs": [],
   "source": [
    "def gender_agree(w_parsed):\n",
    "    \"\"\"\n",
    "    Inflect noun phrase with adjective the right way\n",
    "    \"\"\"\n",
    "    gender = w_parsed.tag.gender\n",
    "    w = w_parsed.inflect({gender, 'nomn'}).word\n",
    "    return w"
   ]
  },
  {
   "cell_type": "code",
   "execution_count": 137,
   "metadata": {},
   "outputs": [],
   "source": [
    "def parse_q(q):\n",
    "    \"\"\"\n",
    "    A function to parse a question text using bigrams,\n",
    "    looking for focus of the question and entities whose\n",
    "    properties are the focus\n",
    "    \"\"\"\n",
    "    matched = pattern_match(q)\n",
    "    if matched:\n",
    "        return matched\n",
    "    q_words = [\"що\", \"коли\", \"скільки\", \"де\", \"хто\"]\n",
    "    non_nomn = ['gent', 'loct', 'datv', 'accs']\n",
    "    words = q.strip('.,?\" -').split()\n",
    "    bgrams = bigrams(words)\n",
    "    parsed = []\n",
    "    phrase_list = []\n",
    "    # special flags:\n",
    "    # in case we are looking forward for something specific\n",
    "    which_flag = False\n",
    "    dep_flag = False\n",
    "    prep_search = False\n",
    "    for g in bgrams:\n",
    "        w1, w2 = g\n",
    "        w1_parsed = morph.parse(w1)[0]\n",
    "        w2_parsed = morph.parse(w2)[0]\n",
    "        w1_tag = w1_parsed.tag\n",
    "        w1_lemma = w1_parsed.normal_form\n",
    "        w2_tag = w2_parsed.tag\n",
    "        w2_lemma = w2_parsed.normal_form\n",
    "        if w1_lemma == 'який':\n",
    "            parsed.append((w1_lemma, 'which'))\n",
    "            if 'NOUN' in w2_tag:\n",
    "                parsed.append((w2_lemma, 'focus'))\n",
    "                dep_flag = True\n",
    "            elif 'ADJF' in w2_tag or 'COMP' in w2_tag:\n",
    "                which_flag = True\n",
    "        elif w1_lemma in q_words:\n",
    "            parsed.append((w1_lemma, 'q_word'))\n",
    "            if 'VERB' in w2_tag:\n",
    "                parsed.append((w2_lemma, 'verb'))\n",
    "            elif 'NOUN' in w2_tag:\n",
    "                parsed.append((w2_lemma, 'focus'))\n",
    "                prep_search = True\n",
    "        elif 'NOUN' in w1_tag:\n",
    "            parsed.append((w1_lemma, 'focus'))\n",
    "            if ('NOUN' in w2_tag and (any(vidm in w2_tag for vidm in non_nomn)\n",
    "                                     or w2[0].upper() == w2[0])):\n",
    "                parsed.append((w2_lemma, 'entity'))\n",
    "            elif 'NOUN' in w2_tag and 'nomn' in w2_tag:\n",
    "                parsed.append((w2_lemma, 'focus'))\n",
    "            elif 'VERB' in w2_tag:\n",
    "                parsed.append((w2_lemma, 'verb'))\n",
    "            elif 'ADJF' in w2_tag or 'COMP' in w2_tag:\n",
    "                phrase_list.append(gender_agree(w2_parsed))\n",
    "        elif 'PREP' in w1_tag:\n",
    "            if 'NOUN' in w2_tag:\n",
    "                parsed.append((w2_lemma, 'entity'))\n",
    "        elif 'ADJF' in w1_tag or 'COMP' in w1_tag:\n",
    "            if 'NOUN' in w2_tag:\n",
    "                if phrase_list:\n",
    "                    phrase = ' '.join(phrase_list)\n",
    "                    phrase_list = []\n",
    "                    parsed.append((phrase + ' ' + w2_lemma, 'entity'))\n",
    "                elif w2[0] == w2[0].upper():\n",
    "                    parsed.append((gender_agree(w1_parsed) + ' ' + w2_lemma, 'entity'))\n",
    "                else:\n",
    "                    if w1[0] == w1[0].upper():\n",
    "                        parsed.append((gender_agree(w1_parsed) + ' ' + w2_lemma, 'entity'))\n",
    "                    else:\n",
    "                        parsed.append((gender_agree(w1_parsed) + ' ' + w2_lemma, 'focus'))\n",
    "            elif 'ADJF' in w2_tag or 'COMP' in w2_tag:\n",
    "                phrase_list.append(gender_agree(w1_parsed))\n",
    "                phrase_list.append(gender_agree(w2_parsed))\n",
    "        elif 'VERB' in w1_tag and 'NOUN' in w2_tag:\n",
    "            parsed.append((w1_lemma, 'verb'))\n",
    "            if w2[0] == w2[0].upper():\n",
    "                parsed.append((w2_lemma, 'entity'))\n",
    "            else:\n",
    "                parsed.append((w2_lemma, 'focus'))\n",
    "        else:\n",
    "            if 'NOUN' in w2_tag and (w2[0] == w2[0].upper()):\n",
    "                parsed.append((w2_lemma, 'entity'))\n",
    "            continue\n",
    "    parsed = [p[0] for p in groupby(parsed)]\n",
    "    return map_question(parsed)"
   ]
  },
  {
   "cell_type": "code",
   "execution_count": 53,
   "metadata": {},
   "outputs": [],
   "source": [
    "fname = 'geoproperties_uk.ttl.gz'\n",
    "g = rdflib.Graph()\n",
    "\n",
    "with gzip.open(fname, 'r') as f:\n",
    "    geoprop = g.parse(f, format='n3')"
   ]
  },
  {
   "cell_type": "code",
   "execution_count": 186,
   "metadata": {},
   "outputs": [],
   "source": [
    "qres = g.query(\n",
    "    \"\"\"\n",
    "    PREFIX prop: <http://uk.dbpedia.org/property/>\n",
    "    PREFIX resource: <http://uk.dbpedia.org/resource/>\n",
    "    SELECT DISTINCT ?prop ?obj\n",
    "       WHERE {\n",
    "           resource:Калімантан prop:latDeg ?obj\n",
    "       }\"\"\")\n"
   ]
  },
  {
   "cell_type": "code",
   "execution_count": 187,
   "metadata": {},
   "outputs": [
    {
     "name": "stdout",
     "output_type": "stream",
     "text": [
      "(None, rdflib.term.Literal('1', datatype=rdflib.term.URIRef('http://www.w3.org/2001/XMLSchema#integer')))\n"
     ]
    }
   ],
   "source": [
    "for row in qres:\n",
    "    print(row)"
   ]
  },
  {
   "cell_type": "code",
   "execution_count": 13,
   "metadata": {},
   "outputs": [
    {
     "data": {
      "text/plain": [
       "['0.741']"
      ]
     },
     "execution_count": 13,
     "metadata": {},
     "output_type": "execute_result"
    }
   ],
   "source": [
    "rs = [str(r[1]).replace('http://uk.dbpedia.org/resource/', '') for r in qres]\n",
    "rs"
   ]
  },
  {
   "cell_type": "code",
   "execution_count": 139,
   "metadata": {},
   "outputs": [],
   "source": [
    "def map_question(q_parsed):\n",
    "    \"\"\"\n",
    "    Take list of tuples q_parsed and transform all that is relevant\n",
    "    into properties or objects for subsequent query\n",
    "    \"\"\"\n",
    "    focus_list = [e[0] for e in q_parsed if e[1]=='focus']\n",
    "    verb_list = [e[0] for e in q_parsed if e[1]=='verb']\n",
    "    entity_list = [e[0] for e in q_parsed if e[1]=='entity']\n",
    "    if len(focus_list) == 1:\n",
    "        focus_key_list = focus_list\n",
    "    else:\n",
    "        focus_key_list = []\n",
    "        focus_key_list.append(\"\".join(focus_key_list))\n",
    "        focus_key_list += focus_list\n",
    "    if len(verb_list) == 1:\n",
    "        pass\n",
    "    if len(entity_list) == 1:\n",
    "        ent = entity_list[0].title()\n",
    "    else:\n",
    "        return None\n",
    "    res = []\n",
    "    for f in focus_key_list:\n",
    "        if not f:\n",
    "            continue\n",
    "        res.append((f, ent))\n",
    "    return res"
   ]
  },
  {
   "cell_type": "code",
   "execution_count": 15,
   "metadata": {},
   "outputs": [
    {
     "name": "stdout",
     "output_type": "stream",
     "text": [
      "[('який', 'which'), ('площа', 'focus'), ('україна', 'entity')]\n"
     ]
    }
   ],
   "source": [
    "test_q = parse_q(train_qs[2])\n",
    "print(test_q)"
   ]
  },
  {
   "cell_type": "code",
   "execution_count": 16,
   "metadata": {},
   "outputs": [
    {
     "data": {
      "text/plain": [
       "[('area', 'Україна'), ('площа', 'Україна')]"
      ]
     },
     "execution_count": 16,
     "metadata": {},
     "output_type": "execute_result"
    }
   ],
   "source": [
    "map_question(test_q, properties_dict)"
   ]
  },
  {
   "cell_type": "code",
   "execution_count": 17,
   "metadata": {},
   "outputs": [
    {
     "data": {
      "text/plain": [
       "'PREFIX prop: <http://uk.dbpedia.org/property/>\\n    PREFIX resource: <http://uk.dbpedia.org/resource/>\\n    SELECT DISTINCT ?prop ?obj\\n       WHERE {\\n           resource:sdfsdf prop:hdi ?obj\\n       }'"
      ]
     },
     "execution_count": 17,
     "metadata": {},
     "output_type": "execute_result"
    }
   ],
   "source": [
    "\"\"\"PREFIX prop: <http://uk.dbpedia.org/property/>\n",
    "    PREFIX resource: <http://uk.dbpedia.org/resource/>\n",
    "    SELECT DISTINCT ?prop ?obj\n",
    "       WHERE {{\n",
    "           resource:{c} prop:hdi ?obj\n",
    "       }}\"\"\".format(c='sdfsdf')"
   ]
  },
  {
   "cell_type": "code",
   "execution_count": 188,
   "metadata": {},
   "outputs": [
    {
     "data": {
      "text/plain": [
       "[('latDeg', 'Калімантан', '1')]"
      ]
     },
     "execution_count": 188,
     "metadata": {},
     "output_type": "execute_result"
    }
   ],
   "source": [
    "run_query(g, 'latDeg', 'Калімантан')"
   ]
  },
  {
   "cell_type": "code",
   "execution_count": 211,
   "metadata": {},
   "outputs": [],
   "source": [
    "def run_query(g, prop, ent):\n",
    "    \"\"\"\n",
    "    Run a single query and get an answer\n",
    "    \"\"\"\n",
    "    template = \"\"\"\n",
    "    PREFIX prop: <http://uk.dbpedia.org/property/>\n",
    "    PREFIX resource: <http://uk.dbpedia.org/resource/>\n",
    "    SELECT DISTINCT ?prop ?obj\n",
    "       WHERE {{\n",
    "           resource:{entity} prop:{prop} ?obj\n",
    "       }}\"\"\"\n",
    "    if len(ent.split()) > 1:\n",
    "        ent = ''.join([w.title() for w in ent.split()])\n",
    "    q = template.format(entity=ent, prop=prop)\n",
    "    qres = g.query(q)\n",
    "    q_answers = [str(r[1]).replace('http://uk.dbpedia.org/resource/', '') for r in qres]\n",
    "    if q_answers:\n",
    "        return q_answers\n",
    "    return None"
   ]
  },
  {
   "cell_type": "code",
   "execution_count": 217,
   "metadata": {},
   "outputs": [
    {
     "data": {
      "text/plain": [
       "['1', '114']"
      ]
     },
     "execution_count": 217,
     "metadata": {},
     "output_type": "execute_result"
    }
   ],
   "source": [
    "get_coordinates(g, 'Калімантан')"
   ]
  },
  {
   "cell_type": "code",
   "execution_count": 189,
   "metadata": {},
   "outputs": [],
   "source": [
    "def get_coordinates(g, ent):\n",
    "    \"\"\"\n",
    "    A special query for getting the coordinates\n",
    "    \"\"\"\n",
    "    latd_list = ['latDeg', 'latd', 'широта']\n",
    "    lond_list = ['lonDeg', 'lond', 'довгота']\n",
    "    template = \"\"\"\n",
    "    PREFIX prop: <http://uk.dbpedia.org/property/>\n",
    "    PREFIX resource: <http://uk.dbpedia.org/resource/>\n",
    "    SELECT DISTINCT ?prop ?obj\n",
    "       WHERE {{\n",
    "           resource:{entity} prop:{prop} ?obj\n",
    "       }}\"\"\"\n",
    "    coord = []\n",
    "    for prop in latd_list:\n",
    "        latd_a = run_query(g, prop, ent)\n",
    "        if latd_a:\n",
    "            coord.append(latd_a[0])\n",
    "            break\n",
    "    for prop in lond_list:\n",
    "        lond_a = run_query(g, prop, ent)\n",
    "        if lond_a:\n",
    "            coord.append(lond_a[0])\n",
    "            break\n",
    "    if len(coord) == 2:\n",
    "        return coord\n",
    "    else:\n",
    "        return None"
   ]
  },
  {
   "cell_type": "code",
   "execution_count": 218,
   "metadata": {},
   "outputs": [],
   "source": [
    "def run_queries(g, prop_list):\n",
    "    \"\"\"\n",
    "    Run query with focus and entity taken from list\n",
    "    on a rdflib graph g\n",
    "    \"\"\"\n",
    "    answers = []\n",
    "    for prop, entity in prop_list:\n",
    "        if prop == 'GET_COORDINATES':\n",
    "            coord = get_coordinates(g, entity)\n",
    "            if coord:\n",
    "                answers = [\n",
    "                    ('latd', entity, coord[0]),\n",
    "                    ('lond', entity, coord[1])\n",
    "                ]\n",
    "                return answers\n",
    "        q_answers = run_query(g, prop, entity)\n",
    "        if not q_answers:\n",
    "            continue\n",
    "        for a in q_answers:\n",
    "            answers.append((prop, entity, a))\n",
    "    return answers"
   ]
  },
  {
   "cell_type": "code",
   "execution_count": 215,
   "metadata": {},
   "outputs": [
    {
     "data": {
      "text/plain": [
       "[('area', 'Україна', '603628')]"
      ]
     },
     "execution_count": 215,
     "metadata": {},
     "output_type": "execute_result"
    }
   ],
   "source": [
    "run_queries(g, [('area', 'Україна')])"
   ]
  },
  {
   "cell_type": "code",
   "execution_count": 19,
   "metadata": {},
   "outputs": [
    {
     "data": {
      "text/plain": [
       "[('area', 'Україна', '603628')]"
      ]
     },
     "execution_count": 19,
     "metadata": {},
     "output_type": "execute_result"
    }
   ],
   "source": [
    "plist = map_question(test_q, properties_dict)\n",
    "run_queries(g, plist)"
   ]
  },
  {
   "cell_type": "code",
   "execution_count": 221,
   "metadata": {},
   "outputs": [],
   "source": [
    "units_dict = {\n",
    "    \"area\": \"км²\",\n",
    "    \"population_estimate\": \"людей\",\n",
    "    \"GDP_PPP\": \"доларів\",\n",
    "    \"GDP_PPP_per_capita\": \"доларів\",\n",
    "    \"population_density\": \"людей на км²\",\n",
    "    \"length\": \"кілометрів\",\n",
    "    \"depth\": \"метрів\",\n",
    "    \"width\": \"кілометрів\",\n",
    "    \"volume\": \"кубічних метрів\",\n",
    "    \"areaWaterKm\": \"км²\",\n",
    "    \"площаБасейну\": \"км²\"\n",
    "}"
   ]
  },
  {
   "cell_type": "code",
   "execution_count": 50,
   "metadata": {},
   "outputs": [],
   "source": [
    "en_to_uk_prop_dict = [('capital', 'столиця'),\n",
    " ('area', 'площа'),\n",
    " ('national_anthem', 'гімн'),\n",
    " ('national_motto', 'девіз'),\n",
    " ('largest_city', 'найбільше місто'),\n",
    " ('common_name', 'назва'),\n",
    " ('official_languages', 'офіційні мови'),\n",
    " ('population_estimate', 'населення'),\n",
    " ('population_density', 'густота населення'),\n",
    " ('population', 'населення'),\n",
    " ('GDP_PPP', 'ВВП'),\n",
    " ('GDP_PPP_per_capita', 'ВВП на душу населення'),\n",
    " ('HDI', 'індекс людського розвитку'),\n",
    " ('government_type', 'форма правління'),\n",
    " ('established_date1', 'дата заснування'),\n",
    " ('currency', 'валюта'),\n",
    " ('currency_code', 'код валюти'),\n",
    " ('leader_name1', 'голова держави'),\n",
    " ('time_zone', 'часовий пояс'),\n",
    " ('cctld', 'домен'),\n",
    " ('calling_code', 'телефонний код'),\n",
    " ('elevationM', 'висота'),\n",
    " ('elevation', 'висота'),\n",
    " ('length', 'довжина'),\n",
    " ('partLength', 'довжина'),\n",
    " ('totalLength', 'повна довжина'),\n",
    " ('depth', 'глибина'),\n",
    " ('maxDepth', 'максимальна глибина'),\n",
    " ('width', 'ширина'),\n",
    " ('volume', \"об'єм\"),\n",
    " ('location', 'розташування'),\n",
    " ('region', 'регіон'),\n",
    " ('areaWaterKm', 'площа басейну'),\n",
    " ('range', 'гірська система')]\n",
    "en_to_uk_prop_dict = {k:v for k,v in en_to_uk_prop_dict}"
   ]
  },
  {
   "cell_type": "code",
   "execution_count": 47,
   "metadata": {},
   "outputs": [
    {
     "data": {
      "text/plain": [
       "'abcdefghijklmnopqrstuvwxyz'"
      ]
     },
     "execution_count": 47,
     "metadata": {},
     "output_type": "execute_result"
    }
   ],
   "source": [
    "string.ascii_lowercase"
   ]
  },
  {
   "cell_type": "code",
   "execution_count": 201,
   "metadata": {},
   "outputs": [],
   "source": [
    "def provide_answers(answer_list):\n",
    "    if (len(answer_list) == 2) and (answer_list[0][0]=='latd'):\n",
    "        return [make_coord_answer(answer_list)]\n",
    "    res = [construct_answer(a, \n",
    "                             en_to_uk_prop_dict, units_dict)\n",
    "            for a in answer_list]\n",
    "    return res"
   ]
  },
  {
   "cell_type": "code",
   "execution_count": 40,
   "metadata": {},
   "outputs": [],
   "source": [
    "def make_coord_answer(answer_list):\n",
    "    \"\"\"\n",
    "    Construct answer, but for coordinates.\n",
    "    \"\"\"\n",
    "    template = 'Координати {ent} - {lat} широти і {lon} довготи'\n",
    "    ent = answer_list[0][1]\n",
    "    ent = morph.parse(ent)[0].inflect({'gent'}).word.title()\n",
    "    lat = answer_list[0][2]\n",
    "    lon = answer_list[1][2]\n",
    "    return template.format(ent=ent, lat=lat, lon=lon)"
   ]
  },
  {
   "cell_type": "code",
   "execution_count": 220,
   "metadata": {},
   "outputs": [],
   "source": [
    "def construct_answer(answer_tuple, en_to_uk_prop_dict, units_dict):\n",
    "    template = \"{focus} {entity} - {a}{units}\"\n",
    "    en_focus, entity, a = answer_tuple\n",
    "    if en_focus not in en_to_uk_prop_dict:\n",
    "        focus = en_focus\n",
    "    else:\n",
    "        focus = en_to_uk_prop_dict[en_focus]\n",
    "    focus = focus[0].upper() + focus[1:]\n",
    "    entity = morph.parse(entity)[0].inflect({'gent'}).word.title()\n",
    "    if en_focus in units_dict:\n",
    "        units = ' ' + units_dict[en_focus]\n",
    "    else:\n",
    "        units = ''\n",
    "    answer = template.format(focus=focus, entity=entity, \n",
    "                             a=a.replace('_', ' '), units=units)\n",
    "    return answer"
   ]
  },
  {
   "cell_type": "code",
   "execution_count": 25,
   "metadata": {},
   "outputs": [
    {
     "data": {
      "text/plain": [
       "'Площа України - 603628 км²'"
      ]
     },
     "execution_count": 25,
     "metadata": {},
     "output_type": "execute_result"
    }
   ],
   "source": [
    "at = run_queries(g, plist)\n",
    "construct_answer(at[0], en_to_uk_prop_dict, units_dict)"
   ]
  },
  {
   "cell_type": "code",
   "execution_count": 219,
   "metadata": {},
   "outputs": [
    {
     "name": "stdout",
     "output_type": "stream",
     "text": [
      "[('population', 'Шрі-Ланка'), ('populationEstimate', 'Шрі-Ланка'), ('населення', 'Шрі-Ланка')]\n",
      "[]\n",
      "[]\n",
      "[('population', 'Китай'), ('populationEstimate', 'Китай'), ('населення', 'Китай')]\n",
      "[]\n",
      "[]\n",
      "[('area', 'Україна'), ('площа', 'Україна')]\n",
      "[('area', 'Україна', '603628')]\n",
      "['Площа України - 603628 км²']\n",
      "[('GET_COORDINATES', 'Калімантан')]\n",
      "[('latd', 'Калімантан', '1'), ('lond', 'Калімантан', '114')]\n",
      "['Координати Калімантана - 1 широти і 114 довготи']\n",
      "[('ввп', 'Мексика')]\n",
      "[]\n",
      "[]\n",
      "[('тривалість', 'Іспанія'), ('життя', 'Іспанія')]\n",
      "[]\n",
      "[]\n",
      "[('GET_COORDINATES', 'Стамбул')]\n",
      "[]\n",
      "[]\n",
      "[('area', 'Саргасовий море'), ('площа', 'Саргасовий море')]\n",
      "[]\n",
      "[]\n",
      "[('capital', 'Флорида'), ('столиця', 'Флорида')]\n",
      "[('capital', 'Флорида', '20')]\n",
      "['Столиця Флориди - 20']\n",
      "[('столиця', 'Топека'), ('штат', 'Топека')]\n",
      "[]\n",
      "[]\n",
      "[('population', 'Сан-Маріно'), ('populationEstimate', 'Сан-Маріно'), ('населення', 'Сан-Маріно')]\n",
      "[]\n",
      "[]\n",
      "[]\n",
      "[]\n",
      "[]\n",
      "[('largestCity', 'Німеччина')]\n",
      "[]\n",
      "[]\n",
      "[('population', 'Париж'), ('populationEstimate', 'Париж'), ('населення', 'Париж')]\n",
      "[]\n",
      "[]\n",
      "[('GET_COORDINATES', 'Андалусія')]\n",
      "[]\n",
      "[]\n",
      "[('країна', 'Океанія')]\n",
      "[]\n",
      "[]\n",
      "[('смертність', 'Бразилія')]\n",
      "[]\n",
      "[]\n",
      "[('leaderName1', 'Камерун')]\n",
      "[]\n",
      "[]\n",
      "[('leaderName1', 'Індонезія')]\n",
      "[]\n",
      "[]\n",
      "[('currency', 'Азербайджан'), ('валюта', 'Азербайджан')]\n",
      "[('currency', 'Азербайджан', 'Азербайджанський_манат')]\n",
      "['Валюта Азербайджану - Азербайджанський_манат']\n",
      "[('officialLanguages', 'Вірменія')]\n",
      "[]\n",
      "[]\n",
      "[('governmentType', 'Туркменістан')]\n",
      "[]\n",
      "[]\n",
      "[('area', 'Середземний море'), ('площа', 'Середземний море')]\n",
      "[]\n",
      "[]\n",
      "[('populationDensity', 'Південна африка'), ('густота', 'Південна африка')]\n",
      "[]\n",
      "[]\n",
      "[('timeZone', 'Гібралтар'), ('utcOffset', 'Гібралтар')]\n",
      "[]\n",
      "[]\n",
      "[('currency', 'Фіджі'), ('валюта', 'Фіджі')]\n",
      "[('currency', 'Фіджі', 'Долар_Фіджі')]\n",
      "['Валюта Фіджі - Долар_Фіджі']\n",
      "[('timeZone', 'Парагвай'), ('utcOffset', 'Парагвай')]\n",
      "[]\n",
      "[]\n",
      "[('cctld', 'Малаві')]\n",
      "[]\n",
      "[]\n",
      "[('population', 'Мапуто'), ('populationEstimate', 'Мапуто'), ('населення', 'Мапуто')]\n",
      "[]\n",
      "[]\n",
      "[('callingCode', 'Індія'), ('кодКраїни', 'Індія')]\n",
      "[]\n",
      "[]\n",
      "[('establishedDate1', 'Рим'), ('засноване', 'Рим')]\n",
      "[]\n",
      "[]\n",
      "[('length', 'Нігера'), ('totalLength', 'Нігера'), ('partLength', 'Нігера'), ('довжина', 'Нігера')]\n",
      "[]\n",
      "[]\n",
      "[('area', 'Ладозький озеро'), ('площа', 'Ладозький озеро')]\n",
      "[]\n",
      "[]\n",
      "[('area', 'Євфрат'), ('площа', 'Євфрат'), ('площаБасейну', 'Євфрат'), ('areaWaterKm', 'Євфрат')]\n",
      "[('площаБасейну', 'Євфрат', '765.8')]\n",
      "['ПлощаБасейну Євфрату - 765.8']\n",
      "[('до', 'Персидська Затока'), ('океан', 'Персидська Затока')]\n",
      "[]\n",
      "[]\n",
      "[('depth', 'Байкал'), ('maxDepth', 'Байкал'), ('глибина', 'Байкал'), ('найбільшаГлибина', 'Байкал')]\n",
      "[]\n",
      "[]\n"
     ]
    }
   ],
   "source": [
    "for tq in train_qs:\n",
    "    proplist = parse_q(tq)\n",
    "    print(proplist)\n",
    "    answers = run_queries(g, proplist)\n",
    "    print(answers)\n",
    "    ukr_answers = provide_answers(answers)\n",
    "    print(ukr_answers)"
   ]
  }
 ],
 "metadata": {
  "kernelspec": {
   "display_name": "Python 3",
   "language": "python",
   "name": "python3"
  },
  "language_info": {
   "codemirror_mode": {
    "name": "ipython",
    "version": 3
   },
   "file_extension": ".py",
   "mimetype": "text/x-python",
   "name": "python",
   "nbconvert_exporter": "python",
   "pygments_lexer": "ipython3",
   "version": "3.6.5"
  }
 },
 "nbformat": 4,
 "nbformat_minor": 2
}
